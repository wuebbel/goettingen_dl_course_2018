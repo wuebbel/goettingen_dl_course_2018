{
 "cells": [
  {
   "cell_type": "markdown",
   "id": "7814b7d3-a18a-4ef6-8549-5861294278f6",
   "metadata": {},
   "source": [
    "# CT: Radon Operator\n",
    "We start by setting up the Radon Transform operator. We restrict ourselves to parallel geometry for now."
   ]
  },
  {
   "cell_type": "code",
   "execution_count": null,
   "id": "487b7b03-3c95-4e36-916f-dd05dde7ff28",
   "metadata": {
    "tags": []
   },
   "outputs": [],
   "source": [
    "import odl\n",
    "import numpy as np\n",
    "import matplotlib.pyplot as plt"
   ]
  },
  {
   "cell_type": "code",
   "execution_count": null,
   "id": "31591845-ff99-4859-b7bf-856919a96c26",
   "metadata": {},
   "outputs": [],
   "source": []
  }
 ],
 "metadata": {
  "kernelspec": {
   "display_name": "Python 3 (ipykernel)",
   "language": "python",
   "name": "python3"
  },
  "language_info": {
   "codemirror_mode": {
    "name": "ipython",
    "version": 3
   },
   "file_extension": ".py",
   "mimetype": "text/x-python",
   "name": "python",
   "nbconvert_exporter": "python",
   "pygments_lexer": "ipython3",
   "version": "3.10.13"
  }
 },
 "nbformat": 4,
 "nbformat_minor": 5
}
