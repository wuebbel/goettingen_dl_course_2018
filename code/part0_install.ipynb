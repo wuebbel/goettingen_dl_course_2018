{
 "cells": [
  {
   "cell_type": "markdown",
   "metadata": {},
   "source": [
    "# Download dependencies\n",
    "\n",
    "This notebook installs all the needed dependencies, and should be used if you do not intend to use the official compute resources provided to the course participants.\n",
    "\n",
    "The isntructions should work with windows and all major linux distributions.\n",
    "\n",
    "## Conda\n",
    "\n",
    "This guide assumes that you have already installed conda. You can either follow the [official instructions](https://conda.io/docs/user-guide/install/index.html), or if you are on Linux by following [this guide](https://www.digitalocean.com/community/tutorials/how-to-install-the-anaconda-python-distribution-on-ubuntu-16-04)\n",
    "\n",
    "##### TLDR:\n",
    "```\n",
    "curl -O https://repo.continuum.io/archive/Anaconda3-5.0.1-Linux-x86_64.sh\n",
    "bash Anaconda3-5.0.1-Linux-x86_64.sh\n",
    "```\n",
    "\n",
    "Say yes to everything, make sure conda is added to your PATH."
   ]
  },
  {
   "cell_type": "markdown",
   "metadata": {},
   "source": [
    "### Base dependencies\n",
    "\n",
    "Installs all backend stuff needed to get ODL working properly:\n",
    "\n",
    "* `numpy`, `scipy` for computations\n",
    "* `matplotlib` for graphics\n",
    "* `pytest` to run the tests\n",
    "* `astra` for the ray-transform in tomography\n",
    "* `pyfftw` for faster fourier transforms"
   ]
  },
  {
   "cell_type": "code",
   "execution_count": null,
   "metadata": {},
   "outputs": [],
   "source": [
    "! conda install nomkl numpy scipy matplotlib pytest -y\n",
    "! conda install -c astra-toolbox astra-toolbox -y\n",
    "! conda install -c conda-forge pyfftw -y"
   ]
  },
  {
   "cell_type": "markdown",
   "metadata": {},
   "source": [
    "### ODL\n",
    "\n",
    "The latest stable version of odl can be installed by `pip install odl`, but for this course we'll use the absolute latest version from github"
   ]
  },
  {
   "cell_type": "code",
   "execution_count": null,
   "metadata": {},
   "outputs": [],
   "source": [
    "! pip install https://github.com/odlgroup/odl/archive/master.zip"
   ]
  },
  {
   "cell_type": "markdown",
   "metadata": {},
   "source": [
    "# Tensorflow\n",
    "\n",
    "Further we need to install tensorflow. Sadly, this is (still) non-trivial and you can consult the documentation here:\n",
    "\n",
    "https://www.tensorflow.org/install/\n",
    "\n",
    "Note that you should **only run one of the commands below**, so read the instructions carefully."
   ]
  },
  {
   "cell_type": "markdown",
   "metadata": {},
   "source": [
    "### Tensorflow - GPU\n",
    "\n",
    "This installs the GPU version of tensorflow. This is the recommended installation for anything larger than toy examples.\n",
    "\n",
    "\n",
    "To get fully GPU support you need to install the following outside of python:\n",
    "\n",
    "* Nvidia drivers\n",
    "* CUDA runtime (9.0, as of 22/4 2018)\n",
    "* CuDNN\n",
    "\n",
    "We recommend that you do this before the course since doing it \"online\" is time consuming. Another option is to use the server provided to the course participants where this is already set up for you."
   ]
  },
  {
   "cell_type": "code",
   "execution_count": null,
   "metadata": {},
   "outputs": [],
   "source": [
    "! pip install tensorflow-gpu"
   ]
  },
  {
   "cell_type": "markdown",
   "metadata": {},
   "source": [
    "### Tensorflow - CPU\n",
    "\n",
    "This installs the standard CPU version of tensorflow. \n",
    "\n",
    "Use this if you do not have a GPU."
   ]
  },
  {
   "cell_type": "code",
   "execution_count": null,
   "metadata": {},
   "outputs": [],
   "source": [
    "! pip install tensorflow"
   ]
  },
  {
   "cell_type": "markdown",
   "metadata": {},
   "source": [
    "### Alternatives\n",
    "\n",
    "Tensorflow is not the only deep learning backend available, several others have found a large following. Some of the material in this course is implemented in PyTorch [here](https://github.com/odlgroup/odlworkshop). Attendants are free to use any backend they like, but should be aware that ODL currently only supports Tensorflow, PyTorch and Theano."
   ]
  }
 ],
 "metadata": {
  "kernelspec": {
   "display_name": "Python 3 (ipykernel)",
   "language": "python",
   "name": "python3"
  },
  "language_info": {
   "codemirror_mode": {
    "name": "ipython",
    "version": 3
   },
   "file_extension": ".py",
   "mimetype": "text/x-python",
   "name": "python",
   "nbconvert_exporter": "python",
   "pygments_lexer": "ipython3",
   "version": "3.10.13"
  }
 },
 "nbformat": 4,
 "nbformat_minor": 4
}
