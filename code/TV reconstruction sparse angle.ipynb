{
 "cells": [
  {
   "cell_type": "markdown",
   "id": "27ec74cf-69da-4975-9e3d-0505f9704fbf",
   "metadata": {},
   "source": [
    "# TV reconstruction for sparse angles"
   ]
  },
  {
   "cell_type": "code",
   "execution_count": null,
   "id": "84b9ca3c-692e-4fbe-a4c9-9c69be4faadc",
   "metadata": {
    "tags": []
   },
   "outputs": [],
   "source": [
    "import numpy as np\n",
    "import odl"
   ]
  },
  {
   "cell_type": "code",
   "execution_count": null,
   "id": "1e85cc92-2930-4d7e-a685-e45655111672",
   "metadata": {
    "tags": []
   },
   "outputs": [],
   "source": [
    "# Parameters\n",
    "lam = 0.01\n",
    "data_matching = 'exact'\n",
    "num_angles=22\n",
    "limited_angle=1.0\n",
    "space = odl.uniform_discr(min_pt=[-20, -20], max_pt=[20, 20], shape=[512, 512])\n",
    "angle_partition = odl.uniform_partition(0, np.pi*limited_angle, num_angles)\n",
    "detector_partition = odl.uniform_partition(-30, 30, 512)\n",
    "geometry = odl.tomo.Parallel2dGeometry(angle_partition, detector_partition)\n",
    "ray_trafo = odl.tomo.RayTransform(space, geometry)\n",
    "phantom = odl.phantom.shepp_logan(space, modified=True)\n",
    "data = ray_trafo(phantom)"
   ]
  },
  {
   "cell_type": "code",
   "execution_count": null,
   "id": "5c3613f9-40cc-42d1-8323-17bc5be2f442",
   "metadata": {},
   "outputs": [],
   "source": [
    "gradient = odl.Gradient(space)\n",
    "\n",
    "# Functional to enforce 0 <= x <= 1\n",
    "f = odl.solvers.IndicatorBox(space, 0, 1)\n",
    "\n",
    "if data_matching == 'exact':\n",
    "    # Functional to enforce Ax = g\n",
    "    # Due to the splitting used in the douglas_rachford_pd solver, we only\n",
    "    # create the functional for the indicator function on g here, the forward\n",
    "    # model is handled separately.\n",
    "    indicator_zero = odl.solvers.IndicatorZero(ray_trafo.range)\n",
    "    indicator_data = indicator_zero.translated(data)\n",
    "elif data_matching == 'inexact':\n",
    "    # Functional to enforce ||Ax - g||_2 < eps\n",
    "    # We do this by rewriting the condition on the form\n",
    "    # f(x) = 0 if ||A(x/eps) - (g/eps)||_2 < 1, infinity otherwise\n",
    "    # That function (with A handled separately, as mentioned above) is\n",
    "    # implemented in ODL as the IndicatorLpUnitBall function.\n",
    "    # Note that we use right multiplication in order to scale in input argument\n",
    "    # instead of the result of the functional, as would be the case with left\n",
    "    # multiplication.\n",
    "    eps = 5.0\n",
    "\n",
    "    # Add noise to data\n",
    "    raw_noise = odl.phantom.white_noise(ray_trafo.range)\n",
    "    data += raw_noise * eps / raw_noise.norm()\n",
    "\n",
    "    # Create indicator\n",
    "    indicator_l2_ball = odl.solvers.IndicatorLpUnitBall(ray_trafo.range, 2)\n",
    "    indicator_data = indicator_l2_ball.translated(data / eps) * (1 / eps)\n",
    "else:\n",
    "    raise RuntimeError('unknown data_matching')\n",
    "\n",
    "# Functional for TV minimization\n",
    "cross_norm = lam * odl.solvers.GroupL1Norm(gradient.range)\n",
    "\n",
    "# --- Create functionals for solving the optimization problem ---\n",
    "\n",
    "# Assemble operators and functionals for the solver\n",
    "lin_ops = [ray_trafo, gradient]\n",
    "g = [indicator_data, cross_norm]\n",
    "\n",
    "# Create callback that prints the iteration number and shows partial results\n",
    "callback = (odl.solvers.CallbackShow('Iterates', step=5, clim=[0, 1]) &\n",
    "            odl.solvers.CallbackPrintIteration())"
   ]
  },
  {
   "cell_type": "code",
   "execution_count": null,
   "id": "4b56b395-cf37-4dc5-89e0-435ac617980e",
   "metadata": {
    "tags": []
   },
   "outputs": [],
   "source": [
    "# Solve with initial guess x = 0.\n",
    "# Step size parameters are selected to ensure convergence.\n",
    "# See douglas_rachford_pd doc for more information.\n",
    "x = ray_trafo.domain.zero()\n",
    "odl.solvers.douglas_rachford_pd(x, f, g, lin_ops,\n",
    "                                tau=0.1, sigma=[0.1, 0.02], lam=1.5,\n",
    "                                niter=20, callback=callback)\n",
    "\n",
    "# Compare with filtered back-projection\n",
    "fbp_recon = odl.tomo.fbp_op(ray_trafo)(data)\n",
    "fbp_recon.show('FBP Reconstruction')\n",
    "phantom.show('Phantom')\n",
    "data.show('Sinogram', force_show=True)"
   ]
  }
 ],
 "metadata": {
  "kernelspec": {
   "display_name": "Python 3 (ipykernel)",
   "language": "python",
   "name": "python3"
  },
  "language_info": {
   "codemirror_mode": {
    "name": "ipython",
    "version": 3
   },
   "file_extension": ".py",
   "mimetype": "text/x-python",
   "name": "python",
   "nbconvert_exporter": "python",
   "pygments_lexer": "ipython3",
   "version": "3.10.13"
  }
 },
 "nbformat": 4,
 "nbformat_minor": 5
}
